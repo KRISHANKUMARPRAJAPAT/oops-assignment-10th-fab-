{
 "cells": [
  {
   "cell_type": "markdown",
   "id": "9b478586-8a9e-45ff-814f-6cec578f6f40",
   "metadata": {},
   "source": [
    "## Q1. Which function is used to open a file? What are the different modes of opening a file? Explain each mode of file opening."
   ]
  },
  {
   "cell_type": "markdown",
   "id": "731ce5f3-20cd-428f-9bdd-a1cbdecdde97",
   "metadata": {},
   "source": [
    "#Ans: 1 \n",
    "\n",
    "In Python, the built-in function open() is used to open a file. The open() function takes two arguments: the first argument is the path to the file that you want to open, and the second argument is the mode in which you want to open the file.\n",
    "\n",
    "Here are the different modes of opening a file in Python:\n",
    "\n",
    "r: This mode is used for reading the contents of a file. It opens the file in read-only mode, and if the file does not exist, it will raise a FileNotFoundError.\n",
    "\n",
    "w: This mode is used for writing to a file. It opens the file in write mode, and if the file does not exist, it will create a new file. If the file already exists, it will overwrite the contents of the file.\n",
    "\n",
    "a: This mode is used for appending to a file. It opens the file in append mode, and if the file does not exist, it will create a new file. If the file already exists, it will add new content to the end of the file.\n",
    "\n",
    "x: This mode is used for creating a new file. It opens the file in exclusive creation mode.\n",
    "\n",
    "b: This mode is used for opening a file in binary mode. It can be used with any of the above modes.\n",
    "\n",
    "t: This mode is used for opening a file in text mode, which is the default mode. It can also be used with any of the above modes.\n"
   ]
  },
  {
   "cell_type": "code",
   "execution_count": 8,
   "id": "13589272-30d4-4b68-b550-87e2b427700b",
   "metadata": {},
   "outputs": [
    {
     "name": "stdout",
     "output_type": "stream",
     "text": [
      "This is an example file.\n"
     ]
    }
   ],
   "source": [
    "#Here's an example of how to use the open() function in Python to open a file in read mode:\n",
    "with open(\"example.txt\", \"r\") as file:\n",
    "    content = file.read()\n",
    "    print(content)\n"
   ]
  },
  {
   "cell_type": "markdown",
   "id": "87e6181d-3eb4-4d49-baca-e0377a4a147b",
   "metadata": {},
   "source": [
    "## Q2. Why close() function is used? Why is it important to close a file?"
   ]
  },
  {
   "cell_type": "markdown",
   "id": "8603776b-91fd-4d83-b23b-1f14c821406d",
   "metadata": {},
   "source": [
    "#Ans: 2\n",
    "\n",
    "The close() function in Python is used to close a file that was previously opened using the open() function.\n",
    "\n",
    "When you open a file in Python, it creates a connection between your program and the file on your computer's file system. This connection uses resources such as memory and system resources. Therefore, it is important to close the file when you're done using it to release these resources.\n",
    "\n",
    "When you use the close() function on a file object, it signals to Python that you're done using the file and that it should close the connection. This frees up any system resources that were being used by the connection and helps your program run more efficiently.\n",
    "\n",
    "\n",
    "**It's important to close a file after using it because if you don't, it can cause issues such as:**\n",
    "\n",
    "Running out of resources: If you don't close a file after using it, the connection will stay open and continue to use resources. If you open many files without closing them, your program can run out of resources, which can cause it to crash.\n",
    "\n",
    "Data loss: If you write to a file but don't close it, some of the data you wrote may not be saved. This can cause data loss and lead to incorrect results in your program.\n",
    "\n",
    "Permission issues: If a file is not closed properly, it may remain locked by the operating system, preventing other programs or processes from accessing it. This can cause permission issues and lead to errors in your program.\n",
    "\n",
    "Therefore, it is important to always close a file after using it in Python to ensure that your program runs smoothly and avoids any potential issues."
   ]
  },
  {
   "cell_type": "markdown",
   "id": "ca8ee227-4296-4ddb-90aa-6638c9e0edaa",
   "metadata": {},
   "source": [
    "## Q3. Write a python program to create a text file. Write ‘I want to become a Data Scientist’ in that file. Then close the file. Open this file and read the content of the file."
   ]
  },
  {
   "cell_type": "code",
   "execution_count": 11,
   "id": "f2edff1d-5063-443b-9b04-d5a451d3d797",
   "metadata": {},
   "outputs": [
    {
     "name": "stdout",
     "output_type": "stream",
     "text": [
      "I want to become a Data Scientist\n"
     ]
    }
   ],
   "source": [
    "#Ans: 3\n",
    "\n",
    "file = open(\"example.txt\", \"w\")\n",
    "file.write(\"I want to become a Data Scientist\")\n",
    "file.close()\n",
    "file = open(\"example.txt\", \"r\")\n",
    "content = file.read()\n",
    "file.close()\n",
    "\n",
    "print(content)\n"
   ]
  },
  {
   "cell_type": "markdown",
   "id": "f37891b7-3950-40d9-a048-f1fadd4e45c2",
   "metadata": {},
   "source": [
    "## Q4. Explain the following with python code: read(), readline() and readlines()."
   ]
  },
  {
   "cell_type": "markdown",
   "id": "49e3ea86-e51d-4a5a-8bd0-e7dd0ea3d9f2",
   "metadata": {},
   "source": [
    "#Ans: 4\n",
    "\n",
    "**read() method:**\n",
    "The read() method reads the entire contents of a file and returns it as a single string. It takes an optional parameter that specifies the number of bytes to read. If no argument is given, it reads the entire file"
   ]
  },
  {
   "cell_type": "code",
   "execution_count": 16,
   "id": "c87965b7-427b-460d-aab3-1403c027e4b4",
   "metadata": {},
   "outputs": [
    {
     "name": "stdout",
     "output_type": "stream",
     "text": [
      "Hello i am Krishna\n"
     ]
    }
   ],
   "source": [
    "#Here's an example\n",
    "file = open(\"example.txt\", \"r\")\n",
    "'Hello i am Krishna' == file.read()\n",
    "file.close()\n",
    "\n",
    "print('Hello i am Krishna')"
   ]
  },
  {
   "cell_type": "markdown",
   "id": "4d2d6cfb-d2f5-486b-90f2-44cbb9670ea1",
   "metadata": {},
   "source": [
    "**readline() method:**\n",
    "The readline() method reads a single line from a file and returns it as a string. Each time you call the readline() method, it reads the next line in the file."
   ]
  },
  {
   "cell_type": "code",
   "execution_count": 17,
   "id": "ceff9eb1-cefd-4b7e-9afa-d22a2c722936",
   "metadata": {},
   "outputs": [
    {
     "name": "stdout",
     "output_type": "stream",
     "text": [
      "I want to become a Data Scientist\n"
     ]
    }
   ],
   "source": [
    "#Here's an example:\n",
    "file = open(\"example.txt\", \"r\")\n",
    "line = file.readline()\n",
    "file.close()\n",
    "\n",
    "print(line)"
   ]
  },
  {
   "cell_type": "markdown",
   "id": "2e65de53-49a6-49c8-a165-19b0959bd713",
   "metadata": {},
   "source": [
    "**readlines() method:**\n",
    "readlines() is a method in Python's file object which returns a list containing all the lines in the file. Each line is represented as a string in the list."
   ]
  },
  {
   "cell_type": "code",
   "execution_count": 18,
   "id": "ddd43dd4-3ba3-4488-9bbd-86fcdbb4fb66",
   "metadata": {},
   "outputs": [
    {
     "name": "stdout",
     "output_type": "stream",
     "text": [
      "['I want to become a Data Scientist']\n"
     ]
    }
   ],
   "source": [
    "#Here's an example:\n",
    "with open('example.txt', 'r') as file:\n",
    "    lines = file.readlines()\n",
    "    \n",
    "print(lines)\n"
   ]
  },
  {
   "cell_type": "markdown",
   "id": "afd546b4-b67d-472a-ab2a-01437ad53278",
   "metadata": {},
   "source": [
    "## Q5. Explain why with statement is used with open(). What is the advantage of using with statement and open() together?"
   ]
  },
  {
   "cell_type": "markdown",
   "id": "3ef86452-e63e-490e-bdb3-bdadef223d4d",
   "metadata": {},
   "source": [
    "#Ans: 5\n",
    "\n",
    "The with statement in Python is used to create a context in which some resources, such as files or network connections, are managed efficiently. One common use of the with statement is to open and close files using the open() function.\n",
    "\n",
    "The advantage of using the with statement with open() is that it provides a convenient and safe way to manage file resources. It ensures that the file is closed properly, which is especially important when dealing with files that are being written to, as it can prevent data corruption or loss. Additionally, the with statement helps to reduce boilerplate code by eliminating the need to manually close the file.\n",
    "\n",
    "So, using the with statement with open() makes it easier and safer to work with files in Python."
   ]
  },
  {
   "cell_type": "markdown",
   "id": "57456a3f-e06e-4557-bbc0-7052d03f11cf",
   "metadata": {},
   "source": [
    "## Q6. Explain the write() and writelines() functions. Give a suitable example."
   ]
  },
  {
   "cell_type": "markdown",
   "id": "b8bb82c5-db72-427d-9086-4be2062f2c08",
   "metadata": {},
   "source": [
    "#Ans: 6\n",
    "\n",
    "write() and writelines() are functions that are used to write data to a file.They provide a simple and efficient way to write both single strings and sequences of strings to a file.\n",
    "\n",
    "The write() function is used to write a single string to a file. It takes a string as an argument and writes it to the file, starting from the current position of the file pointer. If the file does not exist, it is created. If it exists, the contents are overwritten."
   ]
  },
  {
   "cell_type": "code",
   "execution_count": 21,
   "id": "72416e1a-045f-4e0a-91f8-4592b5bb8eea",
   "metadata": {},
   "outputs": [],
   "source": [
    "#example of write():\n",
    "with open('file.txt', 'w') as f:\n",
    "    f.write('Hello, world!')"
   ]
  },
  {
   "cell_type": "markdown",
   "id": "6b200706-7d3f-43b0-a74c-549c0389ee6e",
   "metadata": {},
   "source": [
    "**writelines()function:**\n",
    "The writelines() function is used to write a sequence of strings to a file. It takes a sequence (e.g. a list) of strings as an argument and writes them to the file, starting from the current position of the file pointer. Each string is written on a separate line. "
   ]
  },
  {
   "cell_type": "code",
   "execution_count": 24,
   "id": "d29b3a44-c4e1-428c-b95d-5c8f9852217a",
   "metadata": {},
   "outputs": [],
   "source": [
    "#example of writelines():\n",
    "with open('file.txt', 'w') as f:\n",
    "    lines = ['line 1\\n', 'line 2\\n', 'line 3\\n']\n",
    "    f.writelines(lines)\n"
   ]
  },
  {
   "cell_type": "code",
   "execution_count": null,
   "id": "76b04f6b-91d6-4cae-92c7-6f4c25781bc6",
   "metadata": {},
   "outputs": [],
   "source": []
  }
 ],
 "metadata": {
  "kernelspec": {
   "display_name": "Python 3 (ipykernel)",
   "language": "python",
   "name": "python3"
  },
  "language_info": {
   "codemirror_mode": {
    "name": "ipython",
    "version": 3
   },
   "file_extension": ".py",
   "mimetype": "text/x-python",
   "name": "python",
   "nbconvert_exporter": "python",
   "pygments_lexer": "ipython3",
   "version": "3.10.8"
  }
 },
 "nbformat": 4,
 "nbformat_minor": 5
}
